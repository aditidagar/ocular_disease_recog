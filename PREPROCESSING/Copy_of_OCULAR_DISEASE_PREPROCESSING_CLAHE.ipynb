{
  "nbformat": 4,
  "nbformat_minor": 0,
  "metadata": {
    "colab": {
      "name": "Copy of OCULAR_DISEASE_PREPROCESSING_CLAHE.ipynb",
      "provenance": [],
      "include_colab_link": true
    },
    "kernelspec": {
      "name": "python3",
      "display_name": "Python 3"
    },
    "accelerator": "GPU"
  },
  "cells": [
    {
      "cell_type": "markdown",
      "metadata": {
        "id": "view-in-github",
        "colab_type": "text"
      },
      "source": [
        "<a href=\"https://colab.research.google.com/github/aditidagar/ocular_disease_recog/blob/main/PREPROCESSING/Copy_of_OCULAR_DISEASE_PREPROCESSING_CLAHE.ipynb\" target=\"_parent\"><img src=\"https://colab.research.google.com/assets/colab-badge.svg\" alt=\"Open In Colab\"/></a>"
      ]
    },
    {
      "cell_type": "code",
      "metadata": {
        "id": "kmUUgbNbAVjE"
      },
      "source": [
        "!cp kaggle.json ~/.kaggle/\n",
        "!kaggle datasets download -d andrewmvd/ocular-disease-recognition-odir5k\n",
        "!unzip ocular-disease-recognition-odir5k.zip\n",
        "!mkdir ODIR-5K/Validation_Images"
      ],
      "execution_count": null,
      "outputs": []
    },
    {
      "cell_type": "code",
      "metadata": {
        "id": "-mukUUUxAl7U",
        "colab": {
          "base_uri": "https://localhost:8080/"
        },
        "outputId": "499e2623-a482-4f9c-c121-1318f287cfbb"
      },
      "source": [
        "import tensorflow as tf\n",
        "import pandas as pd\n",
        "import os\n",
        "from PIL import Image\n",
        "import matplotlib.pyplot as plt\n",
        "import IPython.display as display\n",
        "import numpy as np\n",
        "import glob\n",
        "import random\n",
        "\n",
        "BATCH_SIZE = 32\n",
        "CLASS_NAMES = ['N', 'D', 'G', 'C', 'A', 'H', 'M', 'O']\n",
        "\n",
        "# Set a random seed so we always use the same validation set (which is randomly sampled from dataset)\n",
        "random.seed(7)\n",
        "\n",
        "training_images_file = 'ODIR-5K/Training Images'\n",
        "testing_images_file = 'ODIR-5K/Testing Images'\n",
        "labels_file = 'ODIR-5K/data.xlsx'\n",
        "\n",
        "diseases = {'abnormal pigment ': 'O', 'age-related macular degeneration': 'A', 'anterior segment image': 'DELETE', 'arteriosclerosis': 'O', 'asteroid hyalosis': 'O', 'atrophic change': 'O', 'atrophy': 'O', 'branch retinal artery occlusion': 'O', 'branch retinal vein occlusion': 'O', 'cataract': 'C', 'central retinal artery occlusion': 'O', 'central retinal vein occlusion': 'O', 'central serous chorioretinopathy': 'O', 'chorioretinal atrophy': 'O', 'chorioretinal atrophy with pigmentation proliferation': 'O', 'choroidal nevus': 'NaN', 'congenital choroidal coloboma': 'O', 'depigmentation of the retinal pigment epithelium': 'O', 'diabetic retinopathy': 'D', 'diffuse chorioretinal atrophy': 'O', 'diffuse retinal atrophy': 'O', 'drusen': 'O', 'dry age-related macular degeneration': 'A', 'epiretinal membrane': 'O', 'epiretinal membrane over the macula': 'O', 'fundus laser photocoagulation spots': 'O', 'glaucoma': 'G', 'glial remnants anterior to the optic disc': 'O', 'hypertensive retinopathy': 'H', 'hypertensive retinopathy,diabetic retinopathy': 'D', 'idiopathic choroidal neovascularization': 'O', 'image offset': 'DELETE', 'intraretinal hemorrhage': 'O', 'intraretinal microvascular abnormality': 'O', 'laser spot': 'O', 'lens dust': 'DELETE', 'low image quality': 'DELETE', 'low image quality,maculopathy': 'DELETE', 'macular coloboma': 'O', 'macular epiretinal membrane': 'O', 'macular hole': 'O', 'macular pigmentation disorder': 'NaN', 'maculopathy': 'O', 'mild nonproliferative retinopathy': 'D', 'moderate non proliferative retinopathy': 'D', 'morning glory syndrome': 'O', 'myelinated nerve fibers': 'O', 'myopia retinopathy': 'M', 'myopic maculopathy': 'M', 'myopic retinopathy': 'M', 'no fundus image': 'DELETE', 'normal fundus': 'N', 'old branch retinal vein occlusion': 'O', 'old central retinal vein occlusion': 'O', 'old chorioretinopathy': 'O', 'old choroiditis': 'O', 'optic disc edema': 'O', 'optic discitis': 'O', 'optic disk epiretinal membrane': 'O', 'optic disk photographically invisible': 'DELETE', 'optic nerve atrophy': 'O', 'oval yellow-white atrophy': 'O', 'pathological myopia': 'M', 'peripapillary atrophy': 'O', 'pigment epithelium proliferation': 'O', 'pigmentation disorder': 'O', 'post laser photocoagulation': 'O', 'post retinal laser surgery': 'O', 'proliferative diabetic retinopathy': 'D', 'punctate inner choroidopathy': 'O', 'refractive media opacity': 'O', 'retina fold': 'O', 'retinal artery macroaneurysm': 'O', 'retinal detachment': 'O', 'retinal pigment epithelial hypertrophy': 'O', 'retinal pigment epithelium atrophy': 'O', 'retinal pigmentation': 'O', 'retinal vascular sheathing': 'O', 'retinitis pigmentosa': 'O', 'retinochoroidal coloboma': 'O', 'rhegmatogenous retinal detachment': 'O', 'severe nonproliferative retinopathy': 'D', 'severe proliferative diabetic retinopathy': 'D', 'silicone oil eye': 'O', 'spotted membranous change': 'O', 'suspected abnormal color of  optic disc': 'O', 'suspected cataract': 'C', 'suspected diabetic retinopathy': 'D', 'suspected glaucoma': 'G', 'suspected macular epimacular membrane': 'O', 'suspected microvascular anomalies': 'O', 'suspected moderate non proliferative retinopathy': 'D', 'suspected retinal vascular sheathing': 'O', 'suspected retinitis pigmentosa': 'O', 'suspicious diabetic retinopathy': 'D', 'tessellated fundus': 'O', 'vascular loops': 'O', 'vessel tortuosity': 'O', 'vitreous degeneration': 'O', 'vitreous opacity': 'O', 'wedge white line change': 'O', 'wedge-shaped change': 'O', 'wet age-related macular degeneration': 'A', 'white vessel': 'O'}\n",
        "\n",
        "#load labels to pandas\n",
        "labels = pd.read_excel(labels_file, index_col=0) \n",
        "print(labels['Left-Diagnostic Keywords'][0])"
      ],
      "execution_count": 3,
      "outputs": [
        {
          "output_type": "stream",
          "name": "stdout",
          "text": [
            "cataract\n"
          ]
        }
      ]
    },
    {
      "cell_type": "markdown",
      "metadata": {
        "id": "480GR6KOBj0C"
      },
      "source": [
        "Labeling Images by renaming them, removing low quality images "
      ]
    },
    {
      "cell_type": "code",
      "metadata": {
        "id": "KrYR14THAo4o"
      },
      "source": [
        "file_path = 'ODIR-5K/Training Images'\n",
        "all_paths = []\n",
        "for element in glob.glob(file_path+\"/*.jpg\"):\n",
        "  all_paths.append(element)\n",
        "paths = []\n",
        "\n",
        "#adding label information to image names\n",
        "for u_id in labels.index:\n",
        "  labelL = \"\"\n",
        "  labelR = \"\"\n",
        "  diagnosticL = labels['Left-Diagnostic Keywords'][u_id]\n",
        "  diagnosticR = labels['Right-Diagnostic Keywords'][u_id]\n",
        "  diagnosticL = diagnosticL.split(\"，\") \n",
        "  diagnosticR = diagnosticR.split(\"，\") \n",
        "  for d in diagnosticL:\n",
        "    if d in diseases:\n",
        "        if labelL != \"\":\n",
        "          labelL+=\"&\"+diseases[d]\n",
        "        else:\n",
        "          labelL+=diseases[d]\n",
        "    else:\n",
        "        labelL+=\"DELETE\"\n",
        "  for d in diagnosticR:\n",
        "    if d in diseases:\n",
        "      if labelR != \"\":\n",
        "        labelR+=\"&\"+diseases[d]\n",
        "      else:\n",
        "        labelR+=diseases[d]\n",
        "    else:\n",
        "      labelR+=\"DELETE\"\n",
        "\n",
        "  if file_path+\"/\"+str(labels['Left-Fundus'][u_id]) in all_paths:\n",
        "    filename = str(labels['Left-Fundus'][u_id]).split(\".\")\n",
        "    os.rename(file_path+\"/\"+str(labels['Left-Fundus'][u_id]), file_path+\"/\"+filename[0]+\"-\"+labelL+\".jpg\")\n",
        "    paths.append(file_path+\"/\"+str(labels['Left-Fundus'][u_id])+\"/\"+labelL)\n",
        "\n",
        "  if file_path+\"/\"+str(labels['Right-Fundus'][u_id]) in all_paths:\n",
        "    filename = str(labels['Right-Fundus'][u_id]).split(\".\")\n",
        "    os.rename(file_path+\"/\"+str(labels['Right-Fundus'][u_id]), file_path+\"/\"+filename[0]+\"-\"+labelR+\".jpg\")\n",
        "    paths.append(file_path+\"/\"+str(labels['Right-Fundus'][u_id])+\"/\"+labelR)\n",
        "\n",
        "#deleting low quality images    \n",
        "items_to_remove = []\n",
        "add_mix_info = []\n",
        "\n",
        "for element in glob.glob(\"ODIR-5K/Training Images/*.jpg\"):\n",
        "    img_name = element.split(\"/\")[-1]\n",
        "    img_label = img_name.split(\"-\")\n",
        "    if \"DELETE\" in img_label[-1]:\n",
        "      items_to_remove.append(element)\n",
        "    elif \"&\" in img_label[-1]:\n",
        "      add_mix_info.append(element)\n",
        "\n",
        "for e in items_to_remove:\n",
        "  os.remove(e)\n",
        "\n",
        "for e in add_mix_info:\n",
        "  pom = e.split(\".\")\n",
        "  os.rename(e, pom[0]+\"&X\"+\".jpg\")      "
      ],
      "execution_count": 4,
      "outputs": []
    },
    {
      "cell_type": "code",
      "metadata": {
        "id": "mEqFJtkJBaaC"
      },
      "source": [
        ""
      ],
      "execution_count": null,
      "outputs": []
    },
    {
      "cell_type": "code",
      "metadata": {
        "id": "3d019720",
        "colab": {
          "base_uri": "https://localhost:8080/"
        },
        "outputId": "f459a6df-e15e-4b3a-ec56-688e76180fbe"
      },
      "source": [
        "!pip install -q -U albumentations\n",
        "!echo \"$(pip freeze | grep albumentations) is successfully installed\""
      ],
      "execution_count": 5,
      "outputs": [
        {
          "output_type": "stream",
          "name": "stdout",
          "text": [
            "\u001b[K     |████████████████████████████████| 102 kB 15.4 MB/s \n",
            "\u001b[K     |████████████████████████████████| 47.6 MB 68 kB/s \n",
            "\u001b[?25halbumentations==1.1.0 is successfully installed\n"
          ]
        }
      ]
    },
    {
      "cell_type": "markdown",
      "metadata": {
        "id": "FFevHeGTEuml"
      },
      "source": [
        "Image Enhancement and Resizing. Creation of Validation Set by Random Selection\n"
      ]
    },
    {
      "cell_type": "code",
      "metadata": {
        "id": "6BLEIpj-Etpj"
      },
      "source": [
        "import cv2 as cv\n",
        "import albumentations as A\n",
        "\n",
        "transform = A.Compose([\n",
        "   # A.CLAHE(always_apply=True, p=1.0, clip_limit=(1, 4), tile_grid_size=(43, 34))\n",
        "   A.CLAHE(always_apply=True, p=1.0, clip_limit=(1, 2), tile_grid_size=(12, 6)),\n",
        "   A.HueSaturationValue(always_apply=True, p=1.0, hue_shift_limit=(0, 0), sat_shift_limit=(0, 14), val_shift_limit=(3, 0))\n",
        "])\n",
        "\n",
        "def loadAndCropCenterResizeCV2(img, newSize):\n",
        "    #img = cv.imread(imgPath)\n",
        "    width, height, ______ = img.shape\n",
        "    if width == height:\n",
        "        return cv.resize(img, newSize)\n",
        "    length = min(width, height)\n",
        "    left = (width - length) // 2\n",
        "    top = (height - length) // 2\n",
        "    right = (width + length) // 2\n",
        "    bottom = (height + length) // 2\n",
        "    return cv.resize(img[left:right, top:bottom, :], newSize)\n",
        "\n",
        "def clahe_resize(impath):\n",
        "  img = cv.imread(impath)\n",
        "\n",
        "  # Convert to RGB Color Space\n",
        "  image = cv.cvtColor(img, cv.COLOR_BGR2RGB)\n",
        "\n",
        "  # Apply Albumentations Augmentation (CLAHE)\n",
        "  transformed = transform(image=image)\n",
        "  # Get result\n",
        "  transformed_image = transformed[\"image\"]\n",
        "  # Convert back to BGR colorspace\n",
        "  transformed_image_BGR = cv.cvtColor(transformed_image, cv.COLOR_BGR2RGBA)\n",
        "\n",
        "  #clahe = cv.createCLAHE(clipLimit=5.0, tileGridSize=(8,8))\n",
        "  #L, a, b = cv.split(cv.cvtColor(img, cv.COLOR_BGR2Lab))\n",
        "  #cl1 = clahe.apply(L)\n",
        "  #eq_image = cv.cvtColor(cv.merge([cl1, a, b]), cv.COLOR_Lab2BGR)\n",
        "\n",
        "\n",
        "  eq_image = loadAndCropCenterResizeCV2(transformed_image_BGR, (250, 250))\n",
        "\n",
        "\n",
        "  \n",
        "  cv.imwrite(impath,eq_image)\n"
      ],
      "execution_count": 6,
      "outputs": []
    },
    {
      "cell_type": "code",
      "metadata": {
        "id": "tnFnIa4OH_zT"
      },
      "source": [
        "#images enhancing and resizing (takes a while ~19min)\n",
        "all_paths = []\n",
        "for element in glob.glob(\"ODIR-5K/Training Images/*.jpg\"):\n",
        "  all_paths.append(element)\n",
        "  clahe_resize(element)\n",
        "\n",
        "# Set a random seed so we always use the same validation set (which is randomly sampled from dataset)\n",
        "random.seed(7)\n",
        "\n",
        "#creating validation set\n",
        "num_to_select = 1950                          \n",
        "list_of_random_items = random.sample(sorted(all_paths), num_to_select)\n",
        "for element in list_of_random_items:\n",
        "  p = element.split(\"/\")\n",
        "  os.replace(element, \"ODIR-5K/Validation_Images/\"+p[-1])"
      ],
      "execution_count": 7,
      "outputs": []
    },
    {
      "cell_type": "code",
      "metadata": {
        "id": "FhykKECGeBvw"
      },
      "source": [
        "!rm -rf ODIR-5K/Testing\\ Images/\n",
        "!rm -rf ODIR-5K/data.xlsx\n",
        "!zip -r ODIR-5K_contrast.zip ODIR-5K/"
      ],
      "execution_count": null,
      "outputs": []
    },
    {
      "cell_type": "code",
      "metadata": {
        "id": "pxiG8gTkufNF",
        "colab": {
          "base_uri": "https://localhost:8080/"
        },
        "outputId": "bab506c5-31ad-4e57-8d9e-fd744653fd91"
      },
      "source": [
        "from google.colab import drive\n",
        "drive.mount('/amd/')"
      ],
      "execution_count": 9,
      "outputs": [
        {
          "output_type": "stream",
          "name": "stdout",
          "text": [
            "Mounted at /amd/\n"
          ]
        }
      ]
    },
    {
      "cell_type": "code",
      "metadata": {
        "id": "4Koy6mYLujbg"
      },
      "source": [
        "!cp -r ODIR-5K_contrast.zip /amd/My\\ Drive/ML490"
      ],
      "execution_count": 10,
      "outputs": []
    },
    {
      "cell_type": "code",
      "metadata": {
        "id": "8XGNtHWe3tF4",
        "colab": {
          "base_uri": "https://localhost:8080/"
        },
        "outputId": "fdf64351-d934-4742-8ced-7d1720c8991b"
      },
      "source": [
        "def show_class_distribution():\n",
        "  N = 0\n",
        "  D=0\n",
        "  G=0\n",
        "  C=0\n",
        "  A=0\n",
        "  H=0\n",
        "  M=0\n",
        "  O = 0\n",
        "  X = 0\n",
        "  for element in glob.glob(\"ODIR-5K/Training Images/*.jpg\"):\n",
        "    img_name = element.split(\"/\")[-1]\n",
        "    img_label = img_name.split(\"-\")\n",
        "    if img_label[-1] == \"N.jpg\":\n",
        "      N += 1\n",
        "    elif img_label[-1] == \"D.jpg\":\n",
        "      D +=1\n",
        "    elif img_label[-1] == \"G.jpg\":\n",
        "      G +=1\n",
        "    elif img_label[-1] == \"C.jpg\":\n",
        "      C +=1\n",
        "    elif img_label[-1] == \"A.jpg\":\n",
        "      A +=1\n",
        "    elif img_label[-1] == \"H.jpg\":\n",
        "      H +=1\n",
        "    elif img_label[-1] == \"M.jpg\":\n",
        "      M +=1\n",
        "    elif img_label[-1] == \"O.jpg\":\n",
        "      O +=1\n",
        "    elif \"&\" in img_label[-1]:\n",
        "      X +=1  \n",
        "  print(N, D, G, C, A, H, M, O, X)\n",
        "show_class_distribution()"
      ],
      "execution_count": 11,
      "outputs": [
        {
          "output_type": "stream",
          "name": "stdout",
          "text": [
            "1982 984 140 178 167 78 170 520 395\n"
          ]
        }
      ]
    }
  ]
}